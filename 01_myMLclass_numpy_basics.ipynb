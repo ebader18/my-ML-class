{
 "cells": [
  {
   "cell_type": "markdown",
   "metadata": {},
   "source": [
    "# Matrix Manipulation in Numpy\n",
    "* 2-dimension matricecs defined as height by width.\n",
    "* Elements defined as float64 by default."
   ]
  },
  {
   "cell_type": "code",
   "execution_count": 1,
   "metadata": {},
   "outputs": [],
   "source": [
    "import numpy as np"
   ]
  },
  {
   "cell_type": "code",
   "execution_count": null,
   "metadata": {},
   "outputs": [],
   "source": [
    "# Create a 2d matrix and initialize all elements to zero.\n",
    "\n",
    "X = np.zeros((4, 3))    # Height by Width\n",
    "print(f'X: {X.shape}, \\n{X}')"
   ]
  },
  {
   "cell_type": "code",
   "execution_count": null,
   "metadata": {},
   "outputs": [],
   "source": [
    "# Create a 2d matrix and initialize all elements to one.\n",
    "\n",
    "X = np.ones((4, 3))\n",
    "print(f'X: {X.shape}, \\n{X}')"
   ]
  },
  {
   "cell_type": "code",
   "execution_count": null,
   "metadata": {},
   "outputs": [],
   "source": [
    "# Create a 2d matrix and initialize all elements to standard normal distribution.\n",
    "\n",
    "np.random.seed(18)\n",
    "\n",
    "X = np.random.randn(4, 3)    # Height by Width\n",
    "print(f'\\nX: {X.shape}, \\n{X}')"
   ]
  },
  {
   "cell_type": "code",
   "execution_count": null,
   "metadata": {},
   "outputs": [],
   "source": [
    "# Change type of elements inside matrix\n",
    "\n",
    "X1 = np.zeros((4, 3), dtype='int8')\n",
    "X2 = np.zeros((4, 3), dtype='int32')\n",
    "X3 = np.zeros((4, 3), dtype='float32')\n",
    "\n",
    "print(f'X1: {type(X1[0, 0])}')\n",
    "print(f'X2: {type(X2[0, 0])}')\n",
    "print(f'X3: {type(X3[0, 0])}')"
   ]
  },
  {
   "cell_type": "code",
   "execution_count": null,
   "metadata": {},
   "outputs": [],
   "source": [
    "# Transpose, useful for dot product and other matrix operations\n",
    "\n",
    "X = np.array([[1, 2, 3], [4, 5, 6]])\n",
    "print(f'X: {X.shape}, \\n{X}')\n",
    "\n",
    "Z = X.T\n",
    "print(f'\\nZ: {Z.shape}, \\n{Z}')\n"
   ]
  },
  {
   "cell_type": "markdown",
   "metadata": {},
   "source": [
    "# Broadcasting\n",
    "* It is the same as creating a matrix with the same shape as X and assigning a constant to all elements, and then run the operation element-wise.\n",
    "* 1-dimension vectors not recommended, make it 2 dimensions."
   ]
  },
  {
   "cell_type": "code",
   "execution_count": null,
   "metadata": {},
   "outputs": [],
   "source": [
    "# Add an offset to each element\n",
    "\n",
    "X = np.zeros((4, 3))    # Height by Width\n",
    "X += 10\n",
    "print(f'\\nX: {X.shape}, \\n{X}')"
   ]
  },
  {
   "cell_type": "code",
   "execution_count": null,
   "metadata": {},
   "outputs": [],
   "source": [
    "# Apply a scale to each element\n",
    "\n",
    "X = np.ones((4, 3))    # Height by Width\n",
    "X *= 18\n",
    "print(f'X: {X.shape}, \\n{X}')"
   ]
  },
  {
   "cell_type": "markdown",
   "metadata": {},
   "source": [
    "### Rank 1 arrays, aka vectors"
   ]
  },
  {
   "cell_type": "code",
   "execution_count": null,
   "metadata": {},
   "outputs": [],
   "source": [
    "# Issue with rank 1 array (vector) => Is it a row, is it a vector? It's none...\n",
    "b = np.array([1, 2, 3])\n",
    "print(f'b: {b.shape}')\n",
    "\n",
    "W = np.zeros((3, 3))\n",
    "print(f'W: {W.shape}')\n",
    "\n",
    "Z1 = W + b\n",
    "print(f'\\nZ1: {Z1.shape}\\n{Z1}')\n",
    "Z2 = W + b.T\n",
    "print(f'\\nZ2: {Z2.shape}\\n{Z2}')"
   ]
  },
  {
   "cell_type": "code",
   "execution_count": null,
   "metadata": {},
   "outputs": [],
   "source": [
    "b = np.array([[1], [2], [3]])\n",
    "# b = np.array([[1, 2, 3]])\n",
    "print(f'\\nb: {b.shape}')\n",
    "\n",
    "W = np.zeros((3, 3))\n",
    "print(f'W: {W.shape}')\n",
    "\n",
    "Z1 = W + b\n",
    "print(f'\\nZ1: {Z1.shape}\\n{Z1}')\n",
    "Z2 = W + b.T\n",
    "print(f'\\nZ2: {Z2.shape}\\n{Z2}')"
   ]
  },
  {
   "cell_type": "markdown",
   "metadata": {},
   "source": [
    "# For loop vs Numpy vs Pytorch"
   ]
  },
  {
   "cell_type": "code",
   "execution_count": null,
   "metadata": {},
   "outputs": [],
   "source": [
    "import numpy as np\n",
    "import torch\n",
    "import time\n",
    "\n",
    "# For loop version\n",
    "N = 200\n",
    "A = np.random.rand(N, N)\n",
    "B = np.random.rand(N, N)\n",
    "C = np.zeros((A.shape[0], A.shape[1]))\n",
    "t0 = time.time()\n",
    "for i in range(A.shape[0]):\n",
    "    for j in range(A.shape[1]):\n",
    "        for k in range(A.shape[1]):\n",
    "            C[i, j] += A[i, k] * B[k, j]\n",
    "t1 = time.time()\n",
    "print(f'For-loop implementation of {N} by {N} product completed in {(t1-t0):.3f} s.')\n",
    "\n",
    "# Numpy version\n",
    "N = 10000\n",
    "A = np.random.rand(N, N)\n",
    "B = np.random.rand(N, N)\n",
    "t0 = time.time()\n",
    "C = np.dot(A, B)\n",
    "t1 = time.time()\n",
    "print(f'Numpy implementation of {N} by {N} product completed in {(t1-t0):.3f} s.')\n",
    "\n",
    "# PyTorch version\n",
    "device = torch.device('cuda' if torch.cuda.is_available() else 'cpu')\n",
    "N = 20000\n",
    "A = torch.rand(N, N, device=device)\n",
    "B = torch.rand(N, N, device=device)\n",
    "t0 = time.time()\n",
    "C = torch.matmul(A, B)\n",
    "torch.cuda.synchronize()  # Ensure all prior GPU work is done\n",
    "t1 = time.time()\n",
    "print(f'PyTorch implementation of {N} by {N} product completed in {(t1-t0):.3f} s.')"
   ]
  },
  {
   "cell_type": "code",
   "execution_count": null,
   "metadata": {},
   "outputs": [],
   "source": [
    "\n"
   ]
  }
 ],
 "metadata": {
  "kernelspec": {
   "display_name": "Python 3",
   "language": "python",
   "name": "python3"
  },
  "language_info": {
   "codemirror_mode": {
    "name": "ipython",
    "version": 3
   },
   "file_extension": ".py",
   "mimetype": "text/x-python",
   "name": "python",
   "nbconvert_exporter": "python",
   "pygments_lexer": "ipython3",
   "version": "3.12.3+meta"
  }
 },
 "nbformat": 4,
 "nbformat_minor": 2
}
