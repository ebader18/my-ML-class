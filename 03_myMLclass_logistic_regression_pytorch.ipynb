{
 "cells": [
  {
   "cell_type": "code",
   "execution_count": 1,
   "metadata": {},
   "outputs": [],
   "source": [
    "import torch\n",
    "from torch.utils.data import TensorDataset, DataLoader\n",
    "import torch.nn as nn\n",
    "import torch.optim as optim\n",
    "import matplotlib.pyplot as plt\n",
    "import h5py\n",
    "\n",
    "def load_dataset(shape_img=(64, 64), show_samples=False):\n",
    "    with h5py.File('dogs.h5', 'r') as hf:\n",
    "        Xtrain = hf['Xtrain'][:]\n",
    "        Xtest = hf['Xtest'][:]\n",
    "        Ytrain = hf['Ytrain'][:]\n",
    "        Ytest = hf['Ytest'][:]\n",
    "    \n",
    "    if show_samples:\n",
    "        # Plot first 5 images of each dataset for verification\n",
    "        fig, axes = plt.subplots(2, 10, figsize=(20, 4))\n",
    "        for i in range(10):\n",
    "            x = Xtrain[:, i].reshape(shape_img[0], shape_img[1], 3)\n",
    "            axes[0, i].imshow(x)\n",
    "            axes[0, i].axis('off')  # Hide the axis\n",
    "            axes[0, i].set_title(\"Dog\" if Ytrain[0, i] == 1 else \"Car\", fontsize=8)\n",
    "            x = Xtest[:, i].reshape(shape_img[0], shape_img[1], 3)\n",
    "            axes[1, i].imshow(x)\n",
    "            axes[1, i].axis('off')  # Hide the axis\n",
    "            axes[1, i].set_title(\"Dog\" if Ytest[0, i] == 1 else \"Car\", fontsize=8)\n",
    "\n",
    "        plt.show()\n",
    "\n",
    "    # Torch needs X and Y to be of shape (m, num_features) and (m, 1) correspondingly!\n",
    "    Xtrain = torch.tensor(Xtrain.T, dtype=torch.float32)\n",
    "    Xtest = torch.tensor(Xtest.T, dtype=torch.float32)\n",
    "    Ytrain = torch.tensor(Ytrain.T, dtype=torch.float32)\n",
    "    Ytest = torch.tensor(Ytest.T, dtype=torch.float32)\n",
    "    \n",
    "    return Xtrain, Xtest, Ytrain, Ytest\n",
    "\n",
    "class LogisticRegressionModel(nn.Module):\n",
    "    def __init__(self, input_dim):\n",
    "        super(LogisticRegressionModel, self).__init__()\n",
    "        self.linear = nn.Linear(input_dim, 1)\n",
    "\n",
    "    def forward(self, x):\n",
    "        return torch.sigmoid(self.linear(x))"
   ]
  },
  {
   "cell_type": "code",
   "execution_count": null,
   "metadata": {},
   "outputs": [],
   "source": [
    "device = torch.device(\"cuda\" if torch.cuda.is_available() else \"cpu\")\n",
    "\n",
    "LEARNING_RATE = 0.005\n",
    "NUM_ITER = 100000\n",
    "LABELS = ['Car', 'Dog']\n",
    "\n",
    "# Load Train/Test datasets\n",
    "Xtrain, Xtest, Ytrain, Ytest = load_dataset(show_samples=True)\n",
    "x_n = Xtrain.shape[1]\n",
    "Xtrain = Xtrain.to(device)\n",
    "Ytrain = Ytrain.to(device)\n",
    "\n",
    "# Define model, loss, and optimizer\n",
    "model = LogisticRegressionModel(x_n).to(device)\n",
    "criterion = nn.BCELoss()  # Binary cross-entropy loss\n",
    "optimizer = optim.SGD(model.parameters(), lr=LEARNING_RATE)\n",
    "\n",
    "# Training loop\n",
    "for epoch in range(NUM_ITER):\n",
    "    optimizer.zero_grad()\n",
    "    outputs = model(Xtrain)  # Forward pass\n",
    "    loss = criterion(outputs, Ytrain)  # Loss calculation\n",
    "    loss.backward()  # Backward pass\n",
    "    optimizer.step()  # Update weights\n",
    "\n",
    "    if epoch % 1000 == 0:\n",
    "        print(f'Epoch {epoch}, Loss: {loss:.4f}')"
   ]
  },
  {
   "cell_type": "code",
   "execution_count": null,
   "metadata": {},
   "outputs": [],
   "source": []
  }
 ],
 "metadata": {
  "kernelspec": {
   "display_name": "Python 3",
   "language": "python",
   "name": "python3"
  },
  "language_info": {
   "codemirror_mode": {
    "name": "ipython",
    "version": 3
   },
   "file_extension": ".py",
   "mimetype": "text/x-python",
   "name": "python",
   "nbconvert_exporter": "python",
   "pygments_lexer": "ipython3",
   "version": "3.12.3+meta"
  }
 },
 "nbformat": 4,
 "nbformat_minor": 2
}
